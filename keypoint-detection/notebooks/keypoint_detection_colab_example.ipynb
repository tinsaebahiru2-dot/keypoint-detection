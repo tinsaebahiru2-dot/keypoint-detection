{
  "nbformat": 4,
  "nbformat_minor": 0,
  "metadata": {
    "colab": {
      "provenance": [],
      "gpuType": "T4",
      "authorship_tag": "ABX9TyO9SWyGJ1pp7RIap/m4qQuN",
      "include_colab_link": true
    },
    "kernelspec": {
      "name": "python3",
      "display_name": "Python 3"
    },
    "language_info": {
      "name": "python"
    },
    "accelerator": "GPU"
  },
  "cells": [
    {
      "cell_type": "markdown",
      "metadata": {
        "id": "view-in-github",
        "colab_type": "text"
      },
      "source": [
        "<a href=\"https://colab.research.google.com/github/tlpss/keypoint-detection/blob/main/notebooks/keypoint_detection_colab_example.ipynb\" target=\"_parent\"><img src=\"https://colab.research.google.com/assets/colab-badge.svg\" alt=\"Open In Colab\"/></a>"
      ]
    },
    {
      "cell_type": "markdown",
      "source": [
        "# Keypoint detector Example\n",
        "This notebook serves as example for how to set up the kepyoint detector in a notebook. Make sure to change the runtime to TPU (or GPU)."
      ],
      "metadata": {
        "id": "A0QhLuQz5fEn"
      }
    },
    {
      "cell_type": "code",
      "execution_count": null,
      "metadata": {
        "id": "DJxKh_TZuYCg"
      },
      "outputs": [],
      "source": [
        "!git clone https://github.com/tlpss/keypoint-detection.git\n",
        "!pip install -e keypoint-detection"
      ]
    },
    {
      "cell_type": "code",
      "source": [
        "# install kp detector. Need to navigate to folder first to avoid strange 'could not import' error\n",
        "!cd keypoint-detection && pip install ."
      ],
      "metadata": {
        "id": "eVPfwqpz1AkS"
      },
      "execution_count": null,
      "outputs": []
    },
    {
      "cell_type": "code",
      "source": [
        "# install font for visualization\n",
        "!apt install fonts-freefont-ttf\n",
        "\n",
        "# install the torch-xla package for TPU acceleration\n",
        "# instructions from https://lightning.ai/docs/pytorch/stable/accelerators/tpu_basic.html\n",
        "!pip install cloud-tpu-client==0.10 https://storage.googleapis.com/tpu-pytorch/wheels/colab/torch_xla-2.0-cp310-cp310-linux_x86_64.whl\n",
        "\n"
      ],
      "metadata": {
        "id": "at5pIAaU5KRW"
      },
      "execution_count": null,
      "outputs": []
    },
    {
      "cell_type": "code",
      "source": [
        "!wandb login"
      ],
      "metadata": {
        "id": "JR8p1gMW1hZ5"
      },
      "execution_count": null,
      "outputs": []
    },
    {
      "cell_type": "code",
      "source": [
        "!keypoint-detection train --keypoint_channel_configuration  \"box_corner0= box_corner1 = box_corner2= box_corner3: flap_corner0:flap_corner2\" \\\n",
        "--json_dataset_path \"keypoint-detection/test/test_dataset/coco_dataset.json\" --json_validation_dataset_path \"keypoint-detection/test/test_dataset/coco_dataset.json\" --batch_size  2 --wandb_project \"keypoint-detector-integration-test\" \\\n",
        "--max_epochs 50 --early_stopping_relative_threshold -1.0 --log_every_n_steps 1 --accelerator=\"auto\" --devices 1 --precision 16 --augment_train\n"
      ],
      "metadata": {
        "id": "7lU6vCZ91yOx"
      },
      "execution_count": null,
      "outputs": []
    },
    {
      "cell_type": "markdown",
      "source": [
        "\n",
        "\n",
        "You can now download your own data in this notebook and start training custom keypoint detectors!\n",
        "\n"
      ],
      "metadata": {
        "id": "8MrmXcKT98E-"
      }
    }
  ]
}
